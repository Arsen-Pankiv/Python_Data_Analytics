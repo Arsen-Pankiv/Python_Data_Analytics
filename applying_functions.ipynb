{
 "cells": [
  {
   "cell_type": "code",
   "execution_count": 68,
   "id": "dc30b270",
   "metadata": {},
   "outputs": [],
   "source": [
    "import pandas as pd\n",
    "import matplotlib.pyplot as plt\n",
    "\n",
    "rf = pd.read_csv(\"/Users/arsenpankiv/Desktop/Python_practice/small_dataset.csv\")\n",
    "rf[\"date\"] = pd.to_datetime(rf[\"date\"])\n",
    "\n",
    "rj = rf.copy()"
   ]
  },
  {
   "cell_type": "code",
   "execution_count": null,
   "id": "1ea0644b",
   "metadata": {},
   "outputs": [],
   "source": [
    "rf[\"median_salary\"]"
   ]
  },
  {
   "cell_type": "code",
   "execution_count": null,
   "id": "1a380808",
   "metadata": {},
   "outputs": [],
   "source": [
    "\n",
    "\"\"\"let's use apply method but frist let's delete nan values \"\"\"\n",
    "cleaned = rf[pd.notna(rf[\"median_salary\"])].copy()\n",
    "cleaned\n",
    "\n",
    "def projected_salary(median_salary):\n",
    "    return median_salary * 1.03\n",
    "\n",
    "# cleaned[\"median_salary\"].apply(projected_salary)\n",
    "\"\"\"let's create a new column\"\"\"\n",
    "\n",
    "cleaned[\"median_salr_inflated\"] = cleaned[\"median_salary\"].apply(projected_salary)\n",
    "\n",
    "\"\"\"let's now capre these two columns \"\"\"\n",
    "\n",
    "cleaned[[\"median_salary\",\"median_salr_inflated\"]]\n",
    "\n",
    "\"\"\"let's now use lambda function and create another column\"\"\"\n",
    "\n",
    "cleaned[\"lambda_applied\"] = cleaned[\"median_salary\"].apply(lambda salary: salary * 1.03)\n",
    "\n",
    "cleaned[[\"median_salary\",\"median_salr_inflated\", \"lambda_applied\"]]"
   ]
  },
  {
   "cell_type": "code",
   "execution_count": null,
   "id": "6517ead0",
   "metadata": {},
   "outputs": [],
   "source": [
    "\"\"\"let's now convert our last column skills which is a string into a list \"\"\"\n",
    "\n",
    "\"\"\"first item of the column\"\"\"\n",
    "\n",
    "rf[\"skills_list\"][0]\n",
    "\n",
    "list(rf[\"skills\"][0])\n",
    "\n",
    "\"\"\"it's now appripriate way we get a total mess \"\"\"\n",
    "print(rf[\"skills_list\"][0])\n",
    "print(type(rf[\"skills_list\"][0]))\n"
   ]
  },
  {
   "cell_type": "code",
   "execution_count": 56,
   "id": "bd2ca81f",
   "metadata": {},
   "outputs": [
    {
     "name": "stdout",
     "output_type": "stream",
     "text": [
      "['SQL', 'Business Intelligence', 'Dashboarding']\n",
      "<class 'list'>\n"
     ]
    }
   ],
   "source": [
    "import ast \n",
    "\n",
    "\"\"\"let's use function of liveteral_eval\"\"\"\n",
    "\n",
    "x = ast.literal_eval(rf[\"skills_list\"][0])\n",
    "print(x)\n",
    "print(type(x))\n",
    "\n"
   ]
  },
  {
   "cell_type": "code",
   "execution_count": null,
   "id": "c631ce4b",
   "metadata": {},
   "outputs": [],
   "source": [
    "\"\"\"but we can't run this method on the whole column; instead we need to use apply method for it \"\"\"\n",
    "import ast \n",
    "def clean_list(skills):\n",
    "    if pd.notna(skills):\n",
    "        return ast.literal_eval(skills)\n",
    "\n",
    "rf[\"skills_list\"] = rf[\"skills_list\"].apply(clean_list)\n",
    "\n",
    "\"\"\"it not good way ; it's not working properly after the 1st run it crashes\"\"\"\n"
   ]
  },
  {
   "cell_type": "code",
   "execution_count": null,
   "id": "54744362",
   "metadata": {},
   "outputs": [],
   "source": [
    "\"\"\"ValueError: malformed node or string\"\"\"\n",
    "\n",
    "rf[pd.isna(rf[\"skills_list\"])]\n"
   ]
  },
  {
   "cell_type": "code",
   "execution_count": null,
   "id": "5ba49f3e",
   "metadata": {},
   "outputs": [
    {
     "data": {
      "text/plain": [
       "list"
      ]
     },
     "execution_count": 67,
     "metadata": {},
     "output_type": "execute_result"
    }
   ],
   "source": [
    "\"\"\"let's fix this problem and use instead labmba funuction\"\"\"\n",
    "import ast \n",
    "\n",
    "# rf[\"skills_list\"] = rf[\"skills_list\"].apply(lambda skills: ast.literal_eval(skills) if pd.notna(skills) else skills )\n",
    "\n",
    "\"\"\"fixed AI version\"\"\"\n",
    "\n",
    "import ast\n",
    "\n",
    "rf[\"skills_list\"] = rf[\"skills_list\"].apply(\n",
    "    lambda skills: ast.literal_eval(skills) if isinstance(skills, str) else skills\n",
    ")\n",
    "\n",
    "\n",
    "rf[\"skills_list\"][3]\n",
    "type(rf[\"skills_list\"][3]\n",
    ")"
   ]
  },
  {
   "cell_type": "markdown",
   "id": "f8c17e25",
   "metadata": {},
   "source": [
    "You're running into this error because some entries in the \"skills_list\" column are already actual Python lists (not strings). When you try to apply ast.literal_eval() to them, it fails — especially because pd.notna() isn't reliable for checking if something is a string (it works on scalars, but can return arrays for lists, causing this ambiguity).\n",
    "\n",
    "   Why this works:\n",
    "ast.literal_eval() should only run on strings like \"['Python', 'SQL']\".\n",
    "\n",
    "If the value is already a list, we leave it untouched.\n",
    "\n",
    "isinstance(..., str) avoids the ambiguous .any() / .all() issue."
   ]
  },
  {
   "cell_type": "code",
   "execution_count": null,
   "id": "1a610180",
   "metadata": {},
   "outputs": [],
   "source": [
    "\"\"\"so far we have applied this function on the column; let's now instead apply it on a row ; default is 0 which is a column 1 == row\"\"\"\n",
    "\"\"\"we will create a new column row_lambda* and using and rj dataframe\"\"\"\n",
    "rj\n",
    "\n",
    "def selection21(row):\n",
    "    \"\"\"let's create our own if statement\"\"\"\n",
    "    if row[\"num_of_jobs\"] > 120000:\n",
    "        return row[\"mean_salary\"] * 1.03\n",
    "    else:\n",
    "        return 1\n",
    "\n",
    "    \n",
    "rj[\"row_lambda*\"] = rj.apply(selection21,axis =1)\n",
    "\n",
    "rj[\"row_lambda*\"] \n",
    "\n",
    "rj\n",
    "\n"
   ]
  }
 ],
 "metadata": {
  "kernelspec": {
   "display_name": "Python 3",
   "language": "python",
   "name": "python3"
  },
  "language_info": {
   "codemirror_mode": {
    "name": "ipython",
    "version": 3
   },
   "file_extension": ".py",
   "mimetype": "text/x-python",
   "name": "python",
   "nbconvert_exporter": "python",
   "pygments_lexer": "ipython3",
   "version": "3.12.6"
  }
 },
 "nbformat": 4,
 "nbformat_minor": 5
}
