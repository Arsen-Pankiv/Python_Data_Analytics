{
 "cells": [
  {
   "cell_type": "code",
   "execution_count": 34,
   "id": "cc4f921f",
   "metadata": {},
   "outputs": [],
   "source": [
    "import pandas as pd\n",
    "import matplotlib.pyplot as plt\n",
    "\n",
    "rf = pd.read_csv(\"/Users/arsenpankiv/Desktop/Python_practice/small_dataset_doubled.csv\")\n",
    "rf[\"date\"] = pd.to_datetime(rf[\"date\"])"
   ]
  },
  {
   "cell_type": "code",
   "execution_count": null,
   "id": "2c8041ca",
   "metadata": {},
   "outputs": [],
   "source": [
    "\"\"\"here we use doubled dataframe\"\"\"\n",
    "\n",
    "brent1 = rf[rf[\"area\"] == \"brent\"].copy()\n",
    "brent1"
   ]
  },
  {
   "cell_type": "code",
   "execution_count": null,
   "id": "3cb0a12c",
   "metadata": {},
   "outputs": [],
   "source": [
    "\"\"\"let's now extract the month from date column\"\"\"\n",
    "\n",
    "brent1[\"new1_month\"] = brent1[\"date\"].dt.strftime(\"%B\")\n",
    "\"\"\"now we see the month name of year of the job posting\"\"\"\n",
    "\n",
    "\n",
    "brent1"
   ]
  },
  {
   "cell_type": "code",
   "execution_count": null,
   "id": "b74c6582",
   "metadata": {},
   "outputs": [],
   "source": [
    "brent_pivot = brent1.pivot_table(index=\"new1_month\", columns=\"job_title\", aggfunc=\"size\")\n",
    "\n",
    "brent_pivot.reset_index(inplace=True)\n",
    "\n",
    "brent_pivot[\"month_number\"] = pd.to_datetime(brent_pivot[\"new1_month\"], format=\"%B\").dt.month\n",
    "\n",
    "print(brent_pivot)\n",
    "\n",
    "brent_pivot.sort_values(\"month_number\", inplace=True)\n",
    "\n",
    "brent_pivot"
   ]
  },
  {
   "cell_type": "code",
   "execution_count": null,
   "id": "da7d0c24",
   "metadata": {},
   "outputs": [],
   "source": [
    "brent_pivot.set_index(\"new1_month\", inplace= True)\n",
    "brent_pivot"
   ]
  },
  {
   "cell_type": "code",
   "execution_count": null,
   "id": "87b728e4",
   "metadata": {},
   "outputs": [],
   "source": [
    "brent_pivot.drop(columns=\"month_number\",inplace=True)\n",
    "\n",
    "brent_pivot"
   ]
  },
  {
   "cell_type": "code",
   "execution_count": null,
   "id": "089be87e",
   "metadata": {},
   "outputs": [],
   "source": [
    "brent_pivot.plot(kind=\"line\")"
   ]
  },
  {
   "cell_type": "markdown",
   "id": "73b7ee13",
   "metadata": {},
   "source": [
    "Method\tWhat it does\tWhen to use it\n",
    "reset_index(inplace=True)\tMoves index to a column\tWhen you need the index back as a normal column\n",
    "set_index(\"col\", inplace=True)\tMoves column to index\tWhen you want to use a column as the index\n",
    "\n"
   ]
  }
 ],
 "metadata": {
  "kernelspec": {
   "display_name": "Python 3",
   "language": "python",
   "name": "python3"
  },
  "language_info": {
   "codemirror_mode": {
    "name": "ipython",
    "version": 3
   },
   "file_extension": ".py",
   "mimetype": "text/x-python",
   "name": "python",
   "nbconvert_exporter": "python",
   "pygments_lexer": "ipython3",
   "version": "3.12.6"
  }
 },
 "nbformat": 4,
 "nbformat_minor": 5
}
