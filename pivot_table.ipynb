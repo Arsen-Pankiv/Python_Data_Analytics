{
 "cells": [
  {
   "cell_type": "code",
   "execution_count": 1,
   "id": "02be0154",
   "metadata": {},
   "outputs": [],
   "source": [
    "import pandas as pd\n",
    "import matplotlib.pyplot as plt\n",
    "\n",
    "rf = pd.read_csv(\"/Users/arsenpankiv/Desktop/Python_practice/small_dataset.csv\")\n",
    "rf[\"date\"] = pd.to_datetime(rf[\"date\"])\n"
   ]
  },
  {
   "cell_type": "code",
   "execution_count": 2,
   "id": "dca9a8df",
   "metadata": {},
   "outputs": [
    {
     "data": {
      "text/plain": [
       "job_title\n",
       "Database Administrator     8\n",
       "Operations Analyst         7\n",
       "Statistician              11\n",
       "dtype: int64"
      ]
     },
     "execution_count": 2,
     "metadata": {},
     "output_type": "execute_result"
    }
   ],
   "source": [
    "\"\"\"let's do a count of job titles \"\"\"\n",
    "rf.groupby(\"job_title\").size()\n",
    "\"\"\"or we may use another function\"\"\"\n",
    "rf.pivot_table(index=\"job_title\",aggfunc=\"size\")"
   ]
  },
  {
   "cell_type": "code",
   "execution_count": 3,
   "id": "d35fc294",
   "metadata": {},
   "outputs": [
    {
     "data": {
      "text/plain": [
       "job_title\n",
       "Database Administrator    20911.0\n",
       "Operations Analyst        21549.0\n",
       "Statistician              21386.0\n",
       "Name: mean_salary, dtype: float64"
      ]
     },
     "execution_count": 3,
     "metadata": {},
     "output_type": "execute_result"
    }
   ],
   "source": [
    "# rf.pivot_table(values=\"mean_salary\",index=\"job_title\",aggfunc=\"median\")\n",
    "\n",
    "\"\"\"or\"\"\"\n",
    "\n",
    "rf.groupby(\"job_title\")[\"mean_salary\"].median()"
   ]
  },
  {
   "cell_type": "code",
   "execution_count": 4,
   "id": "46b0474a",
   "metadata": {},
   "outputs": [
    {
     "data": {
      "text/html": [
       "<div>\n",
       "<style scoped>\n",
       "    .dataframe tbody tr th:only-of-type {\n",
       "        vertical-align: middle;\n",
       "    }\n",
       "\n",
       "    .dataframe tbody tr th {\n",
       "        vertical-align: top;\n",
       "    }\n",
       "\n",
       "    .dataframe thead th {\n",
       "        text-align: right;\n",
       "    }\n",
       "</style>\n",
       "<table border=\"1\" class=\"dataframe\">\n",
       "  <thead>\n",
       "    <tr style=\"text-align: right;\">\n",
       "      <th>job_title</th>\n",
       "      <th>Database Administrator</th>\n",
       "      <th>Operations Analyst</th>\n",
       "      <th>Statistician</th>\n",
       "    </tr>\n",
       "    <tr>\n",
       "      <th>area</th>\n",
       "      <th></th>\n",
       "      <th></th>\n",
       "      <th></th>\n",
       "    </tr>\n",
       "  </thead>\n",
       "  <tbody>\n",
       "    <tr>\n",
       "      <th>barking and dagenham</th>\n",
       "      <td>23620.0</td>\n",
       "      <td>NaN</td>\n",
       "      <td>NaN</td>\n",
       "    </tr>\n",
       "    <tr>\n",
       "      <th>bexley</th>\n",
       "      <td>NaN</td>\n",
       "      <td>NaN</td>\n",
       "      <td>21386.0</td>\n",
       "    </tr>\n",
       "    <tr>\n",
       "      <th>brent</th>\n",
       "      <td>21044.0</td>\n",
       "      <td>NaN</td>\n",
       "      <td>20911.0</td>\n",
       "    </tr>\n",
       "    <tr>\n",
       "      <th>bromley</th>\n",
       "      <td>NaN</td>\n",
       "      <td>NaN</td>\n",
       "      <td>21293.0</td>\n",
       "    </tr>\n",
       "    <tr>\n",
       "      <th>camden</th>\n",
       "      <td>NaN</td>\n",
       "      <td>NaN</td>\n",
       "      <td>30249.0</td>\n",
       "    </tr>\n",
       "    <tr>\n",
       "      <th>city of london</th>\n",
       "      <td>NaN</td>\n",
       "      <td>48922.0</td>\n",
       "      <td>NaN</td>\n",
       "    </tr>\n",
       "    <tr>\n",
       "      <th>croydon</th>\n",
       "      <td>NaN</td>\n",
       "      <td>NaN</td>\n",
       "      <td>22205.0</td>\n",
       "    </tr>\n",
       "    <tr>\n",
       "      <th>ealing</th>\n",
       "      <td>NaN</td>\n",
       "      <td>NaN</td>\n",
       "      <td>25046.0</td>\n",
       "    </tr>\n",
       "    <tr>\n",
       "      <th>england</th>\n",
       "      <td>21561.0</td>\n",
       "      <td>NaN</td>\n",
       "      <td>NaN</td>\n",
       "    </tr>\n",
       "    <tr>\n",
       "      <th>england and wales</th>\n",
       "      <td>NaN</td>\n",
       "      <td>21549.0</td>\n",
       "      <td>NaN</td>\n",
       "    </tr>\n",
       "    <tr>\n",
       "      <th>great britain</th>\n",
       "      <td>NaN</td>\n",
       "      <td>21379.0</td>\n",
       "      <td>NaN</td>\n",
       "    </tr>\n",
       "    <tr>\n",
       "      <th>scotland</th>\n",
       "      <td>19667.0</td>\n",
       "      <td>NaN</td>\n",
       "      <td>NaN</td>\n",
       "    </tr>\n",
       "    <tr>\n",
       "      <th>south east</th>\n",
       "      <td>NaN</td>\n",
       "      <td>22361.0</td>\n",
       "      <td>NaN</td>\n",
       "    </tr>\n",
       "    <tr>\n",
       "      <th>south west</th>\n",
       "      <td>NaN</td>\n",
       "      <td>19203.0</td>\n",
       "      <td>NaN</td>\n",
       "    </tr>\n",
       "    <tr>\n",
       "      <th>united kingdom</th>\n",
       "      <td>NaN</td>\n",
       "      <td>NaN</td>\n",
       "      <td>21314.5</td>\n",
       "    </tr>\n",
       "    <tr>\n",
       "      <th>wales</th>\n",
       "      <td>18486.0</td>\n",
       "      <td>NaN</td>\n",
       "      <td>NaN</td>\n",
       "    </tr>\n",
       "  </tbody>\n",
       "</table>\n",
       "</div>"
      ],
      "text/plain": [
       "job_title             Database Administrator  Operations Analyst  Statistician\n",
       "area                                                                          \n",
       "barking and dagenham                 23620.0                 NaN           NaN\n",
       "bexley                                   NaN                 NaN       21386.0\n",
       "brent                                21044.0                 NaN       20911.0\n",
       "bromley                                  NaN                 NaN       21293.0\n",
       "camden                                   NaN                 NaN       30249.0\n",
       "city of london                           NaN             48922.0           NaN\n",
       "croydon                                  NaN                 NaN       22205.0\n",
       "ealing                                   NaN                 NaN       25046.0\n",
       "england                              21561.0                 NaN           NaN\n",
       "england and wales                        NaN             21549.0           NaN\n",
       "great britain                            NaN             21379.0           NaN\n",
       "scotland                             19667.0                 NaN           NaN\n",
       "south east                               NaN             22361.0           NaN\n",
       "south west                               NaN             19203.0           NaN\n",
       "united kingdom                           NaN                 NaN       21314.5\n",
       "wales                                18486.0                 NaN           NaN"
      ]
     },
     "execution_count": 4,
     "metadata": {},
     "output_type": "execute_result"
    }
   ],
   "source": [
    "\"\"\"let's now break it down by the area location \"\"\"\n",
    "\"\"\"index for the rows\"\"\"\n",
    "rf.pivot_table(values = \"mean_salary\",index=\"area\",columns=\"job_title\",aggfunc=\"mean\")\n",
    "\n"
   ]
  },
  {
   "cell_type": "markdown",
   "id": "2aad1072",
   "metadata": {},
   "source": [
    "Brent - databease administrator\n",
    "median = 20911, 23128, 19093\n",
    "sort = 19093, 20911, 23128\n",
    " Median = 20911\n",
    "\n",
    " mean:\n",
    " 20911+23128+19093=63132\n",
    " 63132÷3=21044"
   ]
  },
  {
   "cell_type": "code",
   "execution_count": 5,
   "id": "e4f2c34e",
   "metadata": {},
   "outputs": [
    {
     "name": "stdout",
     "output_type": "stream",
     "text": [
      "Index(['brent', 'city of london'], dtype='object', name='area')\n",
      "job_title             Database Administrator  Operations Analyst  Statistician\n",
      "area                                                                          \n",
      "barking and dagenham                 23620.0                 NaN           NaN\n",
      "bexley                                   NaN                 NaN       21386.0\n",
      "brent                                21044.0                 NaN       20911.0\n",
      "bromley                                  NaN                 NaN       21293.0\n",
      "camden                                   NaN                 NaN       30249.0\n",
      "city of london                           NaN             48922.0           NaN\n",
      "croydon                                  NaN                 NaN       22205.0\n",
      "ealing                                   NaN                 NaN       25046.0\n",
      "england                              21561.0                 NaN           NaN\n",
      "england and wales                        NaN             21549.0           NaN\n",
      "great britain                            NaN             21379.0           NaN\n",
      "scotland                             19667.0                 NaN           NaN\n",
      "south east                               NaN             22361.0           NaN\n",
      "south west                               NaN             19203.0           NaN\n",
      "united kingdom                           NaN                 NaN       21314.5\n",
      "wales                                18486.0                 NaN           NaN\n"
     ]
    }
   ],
   "source": [
    "\"\"\"let's now take the first top 2 areas\"\"\"\n",
    "\n",
    "rf[\"area\"].value_counts()\n",
    "\n",
    "top6 = rf[\"area\"].value_counts().head(4)\n",
    "\n",
    "\n",
    "\"\"\"but we only care about index column not values\"\"\"\n",
    "\n",
    "top61 = rf[\"area\"].value_counts().head(2).index\n",
    "print(top61)\n",
    "\n",
    "\n",
    "title_salary_ctr = rf.pivot_table(\n",
    "    values = \"mean_salary\",\n",
    "    index=\"area\",\n",
    "    columns=\"job_title\",\n",
    "    aggfunc=\"mean\")\n",
    "\n",
    "print(title_salary_ctr)\n",
    "title_salary_ctr = title_salary_ctr.loc[top61]"
   ]
  },
  {
   "cell_type": "code",
   "execution_count": 57,
   "id": "5eae5732",
   "metadata": {},
   "outputs": [
    {
     "data": {
      "text/html": [
       "<div>\n",
       "<style scoped>\n",
       "    .dataframe tbody tr th:only-of-type {\n",
       "        vertical-align: middle;\n",
       "    }\n",
       "\n",
       "    .dataframe tbody tr th {\n",
       "        vertical-align: top;\n",
       "    }\n",
       "\n",
       "    .dataframe thead th {\n",
       "        text-align: right;\n",
       "    }\n",
       "</style>\n",
       "<table border=\"1\" class=\"dataframe\">\n",
       "  <thead>\n",
       "    <tr style=\"text-align: right;\">\n",
       "      <th>job_title</th>\n",
       "      <th>Database Administrator</th>\n",
       "      <th>Operations Analyst</th>\n",
       "      <th>Statistician</th>\n",
       "    </tr>\n",
       "    <tr>\n",
       "      <th>area</th>\n",
       "      <th></th>\n",
       "      <th></th>\n",
       "      <th></th>\n",
       "    </tr>\n",
       "  </thead>\n",
       "  <tbody>\n",
       "    <tr>\n",
       "      <th>brent</th>\n",
       "      <td>21044.0</td>\n",
       "      <td>NaN</td>\n",
       "      <td>20911.0</td>\n",
       "    </tr>\n",
       "    <tr>\n",
       "      <th>city of london</th>\n",
       "      <td>NaN</td>\n",
       "      <td>48922.0</td>\n",
       "      <td>NaN</td>\n",
       "    </tr>\n",
       "  </tbody>\n",
       "</table>\n",
       "</div>"
      ],
      "text/plain": [
       "job_title       Database Administrator  Operations Analyst  Statistician\n",
       "area                                                                    \n",
       "brent                          21044.0                 NaN       20911.0\n",
       "city of london                     NaN             48922.0           NaN"
      ]
     },
     "execution_count": 57,
     "metadata": {},
     "output_type": "execute_result"
    }
   ],
   "source": [
    "\n",
    "\n",
    "\"\"\"we take only the first two area because the following areas have the missing values\"\"\"\n",
    "title_salary_ctr"
   ]
  },
  {
   "cell_type": "markdown",
   "id": "a983ccad",
   "metadata": {},
   "source": [
    "The Error you're seeing means that some of the values in top61 (the most common areas) do not exist in the index of your title_salary_ctr pivot table.\n",
    "\n",
    "title_salary_ctr - includes only the areas that actually have salary data for each job title.\n",
    "\n",
    "But rf[\"area\"].value_counts().head(6).index may include areas that don't appear in the pivot table (because maybe those areas have NaN or missing salaries for some jobs).\n",
    "\n",
    "\n",
    "\n"
   ]
  },
  {
   "cell_type": "code",
   "execution_count": 59,
   "id": "03daca63",
   "metadata": {},
   "outputs": [
    {
     "data": {
      "image/png": "[encoded data removed]",
      "text/plain": [
       "<Figure size 640x480 with 1 Axes>"
      ]
     },
     "metadata": {},
     "output_type": "display_data"
    }
   ],
   "source": [
    "\"\"\"let's now plot a bar chart\"\"\"\n",
    "\n",
    "title_salary_ctr.plot(kind=\"bar\")\n",
    "plt.xlabel(\"\")\n",
    "plt.ylabel(\"Median salary ($USD)\")\n",
    "plt.title(\"Median Salary by area and job title\")\n",
    "plt.show()"
   ]
  }
 ],
 "metadata": {
  "kernelspec": {
   "display_name": "Python 3",
   "language": "python",
   "name": "python3"
  },
  "language_info": {
   "codemirror_mode": {
    "name": "ipython",
    "version": 3
   },
   "file_extension": ".py",
   "mimetype": "text/x-python",
   "name": "python",
   "nbconvert_exporter": "python",
   "pygments_lexer": "ipython3",
   "version": "3.12.6"
  }
 },
 "nbformat": 4,
 "nbformat_minor": 5
}
