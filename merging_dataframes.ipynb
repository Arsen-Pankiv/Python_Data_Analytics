{
 "cells": [
  {
   "cell_type": "code",
   "execution_count": 15,
   "id": "a1ba7323",
   "metadata": {},
   "outputs": [],
   "source": [
    "import pandas as pd\n",
    "import matplotlib.pyplot as plt\n",
    "\n",
    "m2 = pd.read_csv(\"/Users/arsenpankiv/Desktop/Python_practice/merge1.csv\")\n",
    "m1 = pd.read_csv(\"/Users/arsenpankiv/Desktop/Python_practice/merge2.csv\")\n",
    "\n"
   ]
  },
  {
   "cell_type": "code",
   "execution_count": null,
   "id": "257daf6f",
   "metadata": {},
   "outputs": [],
   "source": [
    "m1\n"
   ]
  },
  {
   "cell_type": "code",
   "execution_count": null,
   "id": "41834350",
   "metadata": {},
   "outputs": [],
   "source": [
    "m2"
   ]
  },
  {
   "cell_type": "code",
   "execution_count": 62,
   "id": "8419aaa3",
   "metadata": {},
   "outputs": [
    {
     "data": {
      "text/html": [
       "<div>\n",
       "<style scoped>\n",
       "    .dataframe tbody tr th:only-of-type {\n",
       "        vertical-align: middle;\n",
       "    }\n",
       "\n",
       "    .dataframe tbody tr th {\n",
       "        vertical-align: top;\n",
       "    }\n",
       "\n",
       "    .dataframe thead th {\n",
       "        text-align: right;\n",
       "    }\n",
       "</style>\n",
       "<table border=\"1\" class=\"dataframe\">\n",
       "  <thead>\n",
       "    <tr style=\"text-align: right;\">\n",
       "      <th></th>\n",
       "      <th>mean_salary</th>\n",
       "      <th>recycling_pct</th>\n",
       "      <th>population_size</th>\n",
       "      <th>num_of_jobs</th>\n",
       "      <th>crime_rate</th>\n",
       "      <th>population_density</th>\n",
       "      <th>total_businesses</th>\n",
       "    </tr>\n",
       "  </thead>\n",
       "  <tbody>\n",
       "    <tr>\n",
       "      <th>0</th>\n",
       "      <td>48922</td>\n",
       "      <td>0</td>\n",
       "      <td>6581.0</td>\n",
       "      <td>122000</td>\n",
       "      <td>12.5</td>\n",
       "      <td>8923.0</td>\n",
       "      <td>1450</td>\n",
       "    </tr>\n",
       "    <tr>\n",
       "      <th>1</th>\n",
       "      <td>23620</td>\n",
       "      <td>3</td>\n",
       "      <td>162444.0</td>\n",
       "      <td>115000</td>\n",
       "      <td>15.2</td>\n",
       "      <td>18567.0</td>\n",
       "      <td>1380</td>\n",
       "    </tr>\n",
       "    <tr>\n",
       "      <th>2</th>\n",
       "      <td>23128</td>\n",
       "      <td>8</td>\n",
       "      <td>313469.0</td>\n",
       "      <td>291000</td>\n",
       "      <td>8.7</td>\n",
       "      <td>35678.0</td>\n",
       "      <td>3450</td>\n",
       "    </tr>\n",
       "    <tr>\n",
       "      <th>3</th>\n",
       "      <td>23128</td>\n",
       "      <td>8</td>\n",
       "      <td>313469.0</td>\n",
       "      <td>291000</td>\n",
       "      <td>11.3</td>\n",
       "      <td>29543.0</td>\n",
       "      <td>1670</td>\n",
       "    </tr>\n",
       "    <tr>\n",
       "      <th>4</th>\n",
       "      <td>21386</td>\n",
       "      <td>18</td>\n",
       "      <td>217458.0</td>\n",
       "      <td>160000</td>\n",
       "      <td>9.1</td>\n",
       "      <td>24876.0</td>\n",
       "      <td>1950</td>\n",
       "    </tr>\n",
       "    <tr>\n",
       "      <th>5</th>\n",
       "      <td>20911</td>\n",
       "      <td>6</td>\n",
       "      <td>260317.0</td>\n",
       "      <td>134000</td>\n",
       "      <td>8.7</td>\n",
       "      <td>35678.0</td>\n",
       "      <td>3450</td>\n",
       "    </tr>\n",
       "    <tr>\n",
       "      <th>6</th>\n",
       "      <td>20911</td>\n",
       "      <td>6</td>\n",
       "      <td>260317.0</td>\n",
       "      <td>134000</td>\n",
       "      <td>11.3</td>\n",
       "      <td>29543.0</td>\n",
       "      <td>1670</td>\n",
       "    </tr>\n",
       "    <tr>\n",
       "      <th>7</th>\n",
       "      <td>21293</td>\n",
       "      <td>13</td>\n",
       "      <td>NaN</td>\n",
       "      <td>113000</td>\n",
       "      <td>7.8</td>\n",
       "      <td>NaN</td>\n",
       "      <td>1350</td>\n",
       "    </tr>\n",
       "    <tr>\n",
       "      <th>8</th>\n",
       "      <td>30249</td>\n",
       "      <td>13</td>\n",
       "      <td>NaN</td>\n",
       "      <td>84000</td>\n",
       "      <td>14.2</td>\n",
       "      <td>NaN</td>\n",
       "      <td>980</td>\n",
       "    </tr>\n",
       "  </tbody>\n",
       "</table>\n",
       "</div>"
      ],
      "text/plain": [
       "   mean_salary  recycling_pct  population_size  num_of_jobs  crime_rate  \\\n",
       "0        48922              0           6581.0       122000        12.5   \n",
       "1        23620              3         162444.0       115000        15.2   \n",
       "2        23128              8         313469.0       291000         8.7   \n",
       "3        23128              8         313469.0       291000        11.3   \n",
       "4        21386             18         217458.0       160000         9.1   \n",
       "5        20911              6         260317.0       134000         8.7   \n",
       "6        20911              6         260317.0       134000        11.3   \n",
       "7        21293             13              NaN       113000         7.8   \n",
       "8        30249             13              NaN        84000        14.2   \n",
       "\n",
       "   population_density  total_businesses  \n",
       "0              8923.0              1450  \n",
       "1             18567.0              1380  \n",
       "2             35678.0              3450  \n",
       "3             29543.0              1670  \n",
       "4             24876.0              1950  \n",
       "5             35678.0              3450  \n",
       "6             29543.0              1670  \n",
       "7                 NaN              1350  \n",
       "8                 NaN               980  "
      ]
     },
     "execution_count": 62,
     "metadata": {},
     "output_type": "execute_result"
    }
   ],
   "source": [
    "\"using this method we must have the same colum in both dataframes\"\n",
    "merged1 = m1.merge(m2, on=\"area\")\n",
    "\n",
    "\n",
    "\"if m1 has the same value in a column on=area then it will provide multiple rows depend on have many alike values are there \"\n",
    "merged1\n",
    "\n",
    "merged2 =merged1.drop(columns=[\"area\",\"job_title\",\"industry_type\"])\n",
    "\n",
    "merged2"
   ]
  },
  {
   "cell_type": "code",
   "execution_count": 59,
   "id": "39cbaaae",
   "metadata": {},
   "outputs": [
    {
     "name": "stdout",
     "output_type": "stream",
     "text": [
      "mean_salary            233548.0\n",
      "recycling_pct              75.0\n",
      "population_size       1534055.0\n",
      "num_of_jobs           1444000.0\n",
      "crime_rate                 98.8\n",
      "population_density     182808.0\n",
      "total_businesses        17350.0\n",
      "dtype: float64\n",
      "['mean_salary', 'recycling_pct', 'population_size', 'num_of_jobs', 'crime_rate']\n"
     ]
    }
   ],
   "source": [
    "\n",
    "\n",
    "\n",
    "\"we may develop it further and we may use parenthesis which will make it more distinguishable\"\n",
    "sum1 = (\n",
    "    merged2\n",
    "    .sum())\n",
    "\n",
    "sum2 = (\n",
    "    merged2\n",
    "    .sum()\n",
    "    .head() \n",
    "    .index\n",
    "    .to_list())\n",
    "\n",
    "print(sum1)\n",
    "print(sum2)\n"
   ]
  },
  {
   "cell_type": "code",
   "execution_count": null,
   "id": "14bebde0",
   "metadata": {},
   "outputs": [],
   "source": [
    "merged2[sum2]\n",
    "\n"
   ]
  },
  {
   "cell_type": "code",
   "execution_count": null,
   "id": "e51545ee",
   "metadata": {},
   "outputs": [
    {
     "data": {
      "image/png": "[encoded data removed]",
      "text/plain": [
       "<Figure size 640x480 with 1 Axes>"
      ]
     },
     "metadata": {},
     "output_type": "display_data"
    }
   ],
   "source": [
    "merged2[sum2].plot(kind=\"line\")\n",
    "plt.legend()\n",
    "plt.ylim(0, 350000)\n",
    "\n",
    "plt.show()"
   ]
  }
 ],
 "metadata": {
  "kernelspec": {
   "display_name": "Python 3",
   "language": "python",
   "name": "python3"
  },
  "language_info": {
   "codemirror_mode": {
    "name": "ipython",
    "version": 3
   },
   "file_extension": ".py",
   "mimetype": "text/x-python",
   "name": "python",
   "nbconvert_exporter": "python",
   "pygments_lexer": "ipython3",
   "version": "3.12.6"
  }
 },
 "nbformat": 4,
 "nbformat_minor": 5
}
