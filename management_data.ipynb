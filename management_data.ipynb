{
 "cells": [
  {
   "cell_type": "code",
   "execution_count": 3,
   "id": "3956d207",
   "metadata": {},
   "outputs": [],
   "source": [
    "import pandas as pd\n",
    "import matplotlib.pyplot as plt\n",
    "\n",
    "rf = pd.read_csv(\"/Users/arsenpankiv/Desktop/Python_practice/small_dataset.csv\")\n",
    "rf[\"date\"] = pd.to_datetime(rf[\"date\"])\n"
   ]
  },
  {
   "cell_type": "code",
   "execution_count": null,
   "id": "80218a0e",
   "metadata": {},
   "outputs": [],
   "source": [
    "\"\"\"let's now get a true sample of the dataframe sample() thehod returns a random sample of items from an axis of objects\"\"\"\n",
    "\n",
    "rf.sample()"
   ]
  },
  {
   "cell_type": "code",
   "execution_count": null,
   "id": "bd50e9ed",
   "metadata": {},
   "outputs": [],
   "source": [
    "rf.sample(5)"
   ]
  },
  {
   "cell_type": "code",
   "execution_count": null,
   "id": "1c19b082",
   "metadata": {},
   "outputs": [],
   "source": [
    "\"\"\"let's now add random_state unfction which reutrns everytime the same sample, just use number 42\"\"\"\n",
    "\n",
    "rf.sample(5, random_state = 42)"
   ]
  },
  {
   "cell_type": "code",
   "execution_count": null,
   "id": "db6db6cd",
   "metadata": {},
   "outputs": [
    {
     "name": "stdout",
     "output_type": "stream",
     "text": [
      "2750716.0\n"
     ]
    }
   ],
   "source": [
    "\"\"\"copy() function; let's first get back to our previous exmaple of filling in missing values \"\"\"\n",
    "\n",
    "rd = rf\n",
    "\n",
    "rd[\"population_size\"][0:8]\n",
    "\n",
    "median1 = rd[\"population_size\"].median()\n",
    "print(median1)\n",
    "rd[\"population_size\"] = rd[\"population_size\"].fillna(median1)\n",
    "rd[\"population_size\"][0:8]\n",
    "\n"
   ]
  },
  {
   "cell_type": "code",
   "execution_count": 24,
   "id": "99bb2f1b",
   "metadata": {},
   "outputs": [
    {
     "name": "stdout",
     "output_type": "stream",
     "text": [
      "5070233840\n",
      "5070233840\n",
      "5069943248\n",
      "5070233840\n"
     ]
    }
   ],
   "source": [
    "\"\"\"let's now check the original dataframe to check if the chages are saved\"\"\"\n",
    "\n",
    "rf[\"population_size\"][0:8]\n",
    "\n",
    "\"\"\"for some reason they were saved - the original dataframe got updated - let's check their IDs of both- they are the same\"\"\"\n",
    "\n",
    "print(id(rf))\n",
    "print(id(rd))\n",
    "\n",
    "\"\"\"To avoid this we need to use copy() method\"\"\"\n",
    "\n",
    "rf = rd.copy()\n",
    "\n",
    "print(id(rf))\n",
    "print(id(rd))\n",
    "\n"
   ]
  }
 ],
 "metadata": {
  "kernelspec": {
   "display_name": "Python 3",
   "language": "python",
   "name": "python3"
  },
  "language_info": {
   "codemirror_mode": {
    "name": "ipython",
    "version": 3
   },
   "file_extension": ".py",
   "mimetype": "text/x-python",
   "name": "python",
   "nbconvert_exporter": "python",
   "pygments_lexer": "ipython3",
   "version": "3.12.6"
  }
 },
 "nbformat": 4,
 "nbformat_minor": 5
}
