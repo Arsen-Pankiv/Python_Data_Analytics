{
 "cells": [
  {
   "cell_type": "code",
   "execution_count": 1,
   "id": "5cbc3901",
   "metadata": {},
   "outputs": [],
   "source": [
    "\n",
    "# import libraries\n",
    "import pandas as pd\n",
    "import matplotlib.pyplot as plt\n",
    "import ast\n",
    "\n",
    "# Load data\n",
    "rf = pd.read_csv(\"/Users/arsenpankiv/Desktop/Python_practice/small_dataset.csv\")\n",
    "\n",
    "# Clean data\n",
    "rf[\"date\"] = pd.to_datetime(rf[\"date\"])\n",
    "rf[\"skills_list\"] = rf[\"skills_list\"].apply(\n",
    "    lambda skills: ast.literal_eval(skills) if isinstance(skills, str) else skills\n",
    ")\n",
    "\n",
    "stat = rf[rf[\"job_title\"]== \"Statistician\"].copy()"
   ]
  },
  {
   "cell_type": "code",
   "execution_count": 2,
   "id": "ccbcd5ef",
   "metadata": {},
   "outputs": [
    {
     "data": {
      "text/plain": [
       "'do not forget to type in inplace=True comand'"
      ]
     },
     "execution_count": 2,
     "metadata": {},
     "output_type": "execute_result"
    }
   ],
   "source": [
    "# Drop rows with NaN in specific columns:\n",
    "stat.dropna(subset=[\"mean_salary\", \"num_of_jobs\"])\n",
    "\n",
    "# df.dropna(axis=1)\n",
    "# axis=0: rows (default)\n",
    "# axis=1: columns\n",
    "\n",
    "# df.dropna(how='all')\n",
    "# how='any': (default) drop if any NaN in the row\n",
    "\n",
    "# how='all': drop only if all values in the row are NaN\n",
    "\n",
    "\"\"\"do not forget to type in inplace=True comand\"\"\""
   ]
  }
 ],
 "metadata": {
  "kernelspec": {
   "display_name": "Python 3",
   "language": "python",
   "name": "python3"
  },
  "language_info": {
   "codemirror_mode": {
    "name": "ipython",
    "version": 3
   },
   "file_extension": ".py",
   "mimetype": "text/x-python",
   "name": "python",
   "nbconvert_exporter": "python",
   "pygments_lexer": "ipython3",
   "version": "3.12.6"
  }
 },
 "nbformat": 4,
 "nbformat_minor": 5
}
