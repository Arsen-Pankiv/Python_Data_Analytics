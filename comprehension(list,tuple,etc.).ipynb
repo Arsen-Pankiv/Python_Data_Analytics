{
 "cells": [
  {
   "cell_type": "code",
   "execution_count": 16,
   "id": "0ddbd0ae",
   "metadata": {},
   "outputs": [
    {
     "name": "stdout",
     "output_type": "stream",
     "text": [
      "10\n",
      "40\n",
      "[0, 1, 4, 9, 16]\n",
      "[0, 2, 4, 6, 8]\n"
     ]
    }
   ],
   "source": [
    "# list\n",
    "\n",
    "my_list = [10, 20, 30, 40]\n",
    "print(my_list[0])     \n",
    "print(my_list[-1]) \n",
    "\n",
    "# Comphrehension \n",
    "\n",
    "squares = [x**2 for x in range(5)]\n",
    "print(squares)\n",
    "\n",
    "# with condition \n",
    "\n",
    "evens = [x for x in range(10) if x % 2 == 0]\n",
    "print(evens)"
   ]
  },
  {
   "cell_type": "code",
   "execution_count": null,
   "id": "c4f8d22a",
   "metadata": {},
   "outputs": [
    {
     "name": "stdout",
     "output_type": "stream",
     "text": [
      "2\n",
      "{0: 0, 1: 1, 2: 4, 3: 9, 4: 16}\n"
     ]
    }
   ],
   "source": [
    "# tuple\n",
    "my_tuple = (1, 2, 3)\n",
    "print(my_tuple[1])\n",
    "# Comphrehension "
   ]
  },
  {
   "cell_type": "code",
   "execution_count": 25,
   "id": "df236f70",
   "metadata": {},
   "outputs": [
    {
     "name": "stdout",
     "output_type": "stream",
     "text": [
      "Alice\n",
      "25\n",
      "dict_items([('name', 'Alice'), ('age', 25)])\n",
      "dict_values(['Alice', 25])\n",
      "name Alice\n",
      "age 25\n",
      "{0: 0, 1: 1, 2: 4, 3: 9, 4: 16}\n",
      "{0: 0, 2: 4, 4: 16, 6: 36, 8: 64}\n"
     ]
    }
   ],
   "source": [
    "# Dictionary\n",
    "my_dict = {\n",
    "    'name': 'Alice', \n",
    "    'age': 25\n",
    "    }\n",
    "print(my_dict['name'])\n",
    "print(my_dict.get('age'))\n",
    "\n",
    "print(my_dict.items())\n",
    "print(my_dict.values())\n",
    "\n",
    "for key in my_dict:\n",
    "    print(key, my_dict[key])\n",
    "\n",
    "# Comprehension\n",
    "\n",
    "square_dict = {x: x**2 for x in range(5)}\n",
    "print(square_dict)\n",
    "\n",
    "# with condiction \n",
    "even_squares = {x: x**2 for x in range(10) if x % 2 == 0}\n",
    "print(even_squares)"
   ]
  },
  {
   "cell_type": "code",
   "execution_count": 17,
   "id": "21589738",
   "metadata": {},
   "outputs": [
    {
     "name": "stdout",
     "output_type": "stream",
     "text": [
      "{4, 5, 6}\n",
      "{2, 5}\n"
     ]
    }
   ],
   "source": [
    "# Set comprehenesion \n",
    "unique_lengths = {len(word) for word in [\"apple\", \"banana\", \"pear\"]}\n",
    "print(unique_lengths)\n",
    "\n",
    "# Sets do not preserve order and doesn't allow duplicates \n",
    "\n",
    "unique_lengths = {len(word) for word in [\"hi\", \"hello\", \"hi\"]}\n",
    "print(unique_lengths)"
   ]
  },
  {
   "cell_type": "code",
   "execution_count": 19,
   "id": "bd9f9d5b",
   "metadata": {},
   "outputs": [
    {
     "name": "stdout",
     "output_type": "stream",
     "text": [
      "[[0, 0, 0], [0, 1, 2], [0, 2, 4]]\n"
     ]
    }
   ],
   "source": [
    "# Nested comprehensions \n",
    "\n",
    "matrix = [[i * j for j in range(3)] for i in range(3)]\n",
    "print(matrix)"
   ]
  },
  {
   "cell_type": "code",
   "execution_count": 20,
   "id": "3abda7e5",
   "metadata": {},
   "outputs": [
    {
     "name": "stdout",
     "output_type": "stream",
     "text": [
      "['even', 'odd', 'even', 'odd', 'even']\n"
     ]
    }
   ],
   "source": [
    "# Conditional expression \n",
    "\n",
    "labels = [\"even\" if x % 2 == 0 else \"odd\" for x in range(5)]\n",
    "print(labels)"
   ]
  },
  {
   "cell_type": "code",
   "execution_count": 29,
   "id": "58d9fe09",
   "metadata": {},
   "outputs": [
    {
     "name": "stdout",
     "output_type": "stream",
     "text": [
      "(0, 'job_title')\n",
      "(1, 'job__health_insurance')\n",
      "(2, 'work_from_home')\n",
      "(0, 'job_title')\n",
      "(1, 'job__health_insurance')\n",
      "(2, 'work_from_home')\n",
      "(0, 'Job title')\n",
      "(1, 'Health insurance')\n",
      "(2, 'Work from Home')\n",
      "0 job_title Job title\n",
      "1 job__health_insurance Health insurance\n",
      "2 work_from_home Work from Home\n"
     ]
    }
   ],
   "source": [
    "# USING ENUMERATE FUNCTION\n",
    "\n",
    "dict1 = {\n",
    "    \"job_title\": \"Job title\",\n",
    "    \"job__health_insurance\": \"Health insurance\",\n",
    "    \"work_from_home\": \"Work from Home\"\n",
    "\n",
    "}\n",
    "\n",
    "for i in enumerate(dict1):\n",
    "    print(i)\n",
    "\n",
    "# we might directly define keys() function\n",
    "for i in enumerate(dict1.keys()):\n",
    "    print(i)\n",
    "\n",
    "# we might directly define values() function\n",
    "for i in enumerate(dict1.values()):\n",
    "    print(i)\n",
    "\n",
    "# enumerate(dict1) adds an index to each key. \n",
    "# enumerate()\tAdds a counter (index) when iterating\n",
    "# dict.items()\tReturns (key, value) pairs\n",
    "# for i, (k,v)\tUnpacks index and tuple from enumerate\n",
    "\n",
    "for i,(column,title) in enumerate(dict1.items()):\n",
    "    print(i,column,title)\n",
    "\n",
    "\n",
    "# dict1.items() returns (key, value) pairs.\n",
    "\n",
    "# enumerate() adds an index to each pair.\n",
    "\n",
    "# You unpack the pair into column and title"
   ]
  }
 ],
 "metadata": {
  "kernelspec": {
   "display_name": "Python 3",
   "language": "python",
   "name": "python3"
  },
  "language_info": {
   "codemirror_mode": {
    "name": "ipython",
    "version": 3
   },
   "file_extension": ".py",
   "mimetype": "text/x-python",
   "name": "python",
   "nbconvert_exporter": "python",
   "pygments_lexer": "ipython3",
   "version": "3.12.6"
  }
 },
 "nbformat": 4,
 "nbformat_minor": 5
}
