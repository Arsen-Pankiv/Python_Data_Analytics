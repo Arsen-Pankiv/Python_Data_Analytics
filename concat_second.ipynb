{
 "cells": [
  {
   "cell_type": "code",
   "execution_count": 6,
   "id": "2589a98f",
   "metadata": {},
   "outputs": [],
   "source": [
    "import pandas as pd\n",
    "import matplotlib.pyplot as plt\n",
    "\n",
    "rf = pd.read_csv(\"/Users/arsenpankiv/Desktop/Python_practice/small_dataset_doubled.csv\")\n",
    "rf[\"date\"] = pd.to_datetime(rf[\"date\"])\n"
   ]
  },
  {
   "cell_type": "code",
   "execution_count": null,
   "id": "68e4d69a",
   "metadata": {},
   "outputs": [],
   "source": [
    "rf[\"date\"].dt.month"
   ]
  },
  {
   "cell_type": "code",
   "execution_count": null,
   "id": "4d9ed2a2",
   "metadata": {},
   "outputs": [],
   "source": [
    "rf[\"month_var\"] = rf[\"date\"].dt.strftime(\"%b\")\n",
    "rf\n",
    "\n",
    "\"\"\"let's now break it down into 12 differen dataframes specifically for each month; store it inside of the dictionary\"\"\"\n",
    "\n",
    "# dict1 = {\n",
    "#     \"Jan\": rf_jan,\n",
    "#     \"Feb\": rf_feb,\n",
    "#     \"Mar\": rf_mar,\n",
    "#     \"Apr\": rf_apr,\n",
    "#     \"May\": rf_may,\n",
    "#     \"Jun\": rf_jun,\n",
    "#     \"Jul\": rf_jul,\n",
    "#     \"Aug\": rf_aug,\n",
    "#     \"Sep\": rf_sep,\n",
    "#     \"Oct\": rf_oct,\n",
    "#     \"Nov\": rf_nov,\n",
    "#     \"Dec\": rf_dec,\n",
    "# }"
   ]
  },
  {
   "cell_type": "code",
   "execution_count": 17,
   "id": "6aa9f6cf",
   "metadata": {},
   "outputs": [
    {
     "data": {
      "text/html": [
       "<div>\n",
       "<style scoped>\n",
       "    .dataframe tbody tr th:only-of-type {\n",
       "        vertical-align: middle;\n",
       "    }\n",
       "\n",
       "    .dataframe tbody tr th {\n",
       "        vertical-align: top;\n",
       "    }\n",
       "\n",
       "    .dataframe thead th {\n",
       "        text-align: right;\n",
       "    }\n",
       "</style>\n",
       "<table border=\"1\" class=\"dataframe\">\n",
       "  <thead>\n",
       "    <tr style=\"text-align: right;\">\n",
       "      <th></th>\n",
       "      <th>code</th>\n",
       "      <th>area</th>\n",
       "      <th>date</th>\n",
       "      <th>median_salary</th>\n",
       "      <th>life_satisfaction</th>\n",
       "      <th>mean_salary</th>\n",
       "      <th>recycling_pct</th>\n",
       "      <th>population_size</th>\n",
       "      <th>num_of_jobs</th>\n",
       "      <th>job_title</th>\n",
       "      <th>month_var</th>\n",
       "    </tr>\n",
       "  </thead>\n",
       "  <tbody>\n",
       "    <tr>\n",
       "      <th>1</th>\n",
       "      <td>E09000002</td>\n",
       "      <td>barking and dagenham</td>\n",
       "      <td>1999-01-11</td>\n",
       "      <td>21480.0</td>\n",
       "      <td>NaN</td>\n",
       "      <td>23620.0</td>\n",
       "      <td>3.0</td>\n",
       "      <td>162444.0</td>\n",
       "      <td>115000.0</td>\n",
       "      <td>Database Administrator</td>\n",
       "      <td>Jan</td>\n",
       "    </tr>\n",
       "    <tr>\n",
       "      <th>8</th>\n",
       "      <td>E09000009</td>\n",
       "      <td>ealing</td>\n",
       "      <td>1999-01-11</td>\n",
       "      <td>20580.0</td>\n",
       "      <td>NaN</td>\n",
       "      <td>25046.0</td>\n",
       "      <td>12.0</td>\n",
       "      <td>302252.0</td>\n",
       "      <td>120000.0</td>\n",
       "      <td>Statistician</td>\n",
       "      <td>Jan</td>\n",
       "    </tr>\n",
       "    <tr>\n",
       "      <th>43</th>\n",
       "      <td>N92000002</td>\n",
       "      <td>brent</td>\n",
       "      <td>1999-01-03</td>\n",
       "      <td>15798.0</td>\n",
       "      <td>NaN</td>\n",
       "      <td>19093.0</td>\n",
       "      <td>NaN</td>\n",
       "      <td>1679006.0</td>\n",
       "      <td>140000.0</td>\n",
       "      <td>Database Administrator</td>\n",
       "      <td>Jan</td>\n",
       "    </tr>\n",
       "    <tr>\n",
       "      <th>51</th>\n",
       "      <td>E09000005</td>\n",
       "      <td>brent</td>\n",
       "      <td>1999-01-12</td>\n",
       "      <td>18532.0</td>\n",
       "      <td>NaN</td>\n",
       "      <td>20911.0</td>\n",
       "      <td>7.0</td>\n",
       "      <td>260317.0</td>\n",
       "      <td>134000.0</td>\n",
       "      <td>Database Administrator</td>\n",
       "      <td>Jan</td>\n",
       "    </tr>\n",
       "  </tbody>\n",
       "</table>\n",
       "</div>"
      ],
      "text/plain": [
       "         code                  area       date  median_salary  \\\n",
       "1   E09000002  barking and dagenham 1999-01-11        21480.0   \n",
       "8   E09000009                ealing 1999-01-11        20580.0   \n",
       "43  N92000002                 brent 1999-01-03        15798.0   \n",
       "51  E09000005                 brent 1999-01-12        18532.0   \n",
       "\n",
       "    life_satisfaction  mean_salary  recycling_pct  population_size  \\\n",
       "1                 NaN      23620.0            3.0         162444.0   \n",
       "8                 NaN      25046.0           12.0         302252.0   \n",
       "43                NaN      19093.0            NaN        1679006.0   \n",
       "51                NaN      20911.0            7.0         260317.0   \n",
       "\n",
       "    num_of_jobs               job_title month_var  \n",
       "1      115000.0  Database Administrator       Jan  \n",
       "8      120000.0            Statistician       Jan  \n",
       "43     140000.0  Database Administrator       Jan  \n",
       "51     134000.0  Database Administrator       Jan  "
      ]
     },
     "execution_count": 17,
     "metadata": {},
     "output_type": "execute_result"
    }
   ],
   "source": [
    "\"\"\"let's create a list of different month\"\"\"\n",
    "\n",
    "months = rf[\"month_var\"].unique()\n",
    "months\n",
    "\n",
    "\"\"\"let's then use dictionary comprehension\"\"\"\n",
    "\n",
    "{month: month for month in months}\n",
    "\n",
    "\"\"\"but for values we have to have dataframes\"\"\"\n",
    "{month: rf[rf[\"month_var\"] == month] for month in months}\n",
    "\n",
    "mn_frames = {month: rf[rf[\"month_var\"] == month] for month in months}\n",
    "\n",
    "mn_frames[\"Jan\"]"
   ]
  },
  {
   "cell_type": "code",
   "execution_count": 20,
   "id": "370b123e",
   "metadata": {},
   "outputs": [],
   "source": [
    "\"\"\"let's now concat a few months\"\"\"\n",
    "\n",
    "concated = pd.concat([mn_frames[\"Jan\"],mn_frames[\"Feb\"],mn_frames[\"Apr\"]], ignore_index=True)"
   ]
  },
  {
   "cell_type": "code",
   "execution_count": 23,
   "id": "b2481208",
   "metadata": {},
   "outputs": [
    {
     "data": {
      "text/plain": [
       "<Axes: xlabel='month_var'>"
      ]
     },
     "execution_count": 23,
     "metadata": {},
     "output_type": "execute_result"
    },
    {
     "data": {
      "image/png": "[encoded data removed]",
      "text/plain": [
       "<Figure size 640x480 with 1 Axes>"
      ]
     },
     "metadata": {},
     "output_type": "display_data"
    }
   ],
   "source": [
    "value23 = concated[\"month_var\"].value_counts()\n",
    "value23\n",
    "\n",
    "value23.plot(kind=\"bar\")"
   ]
  }
 ],
 "metadata": {
  "kernelspec": {
   "display_name": "Python 3",
   "language": "python",
   "name": "python3"
  },
  "language_info": {
   "codemirror_mode": {
    "name": "ipython",
    "version": 3
   },
   "file_extension": ".py",
   "mimetype": "text/x-python",
   "name": "python",
   "nbconvert_exporter": "python",
   "pygments_lexer": "ipython3",
   "version": "3.12.6"
  }
 },
 "nbformat": 4,
 "nbformat_minor": 5
}
