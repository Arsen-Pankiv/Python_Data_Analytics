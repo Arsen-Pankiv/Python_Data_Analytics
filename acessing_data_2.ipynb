{
 "cells": [
  {
   "cell_type": "code",
   "execution_count": 2,
   "id": "512f7862",
   "metadata": {},
   "outputs": [],
   "source": [
    "import pandas as pd\n",
    "import matplotlib.pyplot as plt\n",
    "\n",
    "rf = pd.read_csv(\"/Users/arsenpankiv/Desktop/Python_practice/small_dataset.csv\")\n",
    "rf[\"date\"] = pd.to_datetime(rf[\"date\"])"
   ]
  },
  {
   "cell_type": "code",
   "execution_count": null,
   "id": "a6455a83",
   "metadata": {},
   "outputs": [],
   "source": [
    "\"\"\"To extract a specific character from a value in a column, you can use string indexing with .str[]\"\"\"\n",
    "\n",
    "rf[\"area\"][0]\n",
    "\n",
    "rf[\"area\"].str[0:3]"
   ]
  },
  {
   "cell_type": "code",
   "execution_count": 16,
   "id": "9e8848e3",
   "metadata": {},
   "outputs": [
    {
     "data": {
      "text/plain": [
       "'broml'"
      ]
     },
     "execution_count": 16,
     "metadata": {},
     "output_type": "execute_result"
    }
   ],
   "source": [
    "\"\"\"If you want to get a specific character from just one value in a column, you can do this in two steps\n",
    "lets say you want the 2nd character from the value in row 5 of column \"area\" \"\"\"\n",
    "\n",
    "rf.loc[0:5, \"area\"]\n",
    "\n",
    "rf.loc[5, \"area\"]\n",
    "rf.loc[5, \"area\"][0:5]\n",
    "\n"
   ]
  },
  {
   "cell_type": "code",
   "execution_count": 19,
   "id": "4e60c356",
   "metadata": {},
   "outputs": [
    {
     "name": "stdout",
     "output_type": "stream",
     "text": [
      "213\n"
     ]
    }
   ],
   "source": [
    "\"\"\"let's now handle the integer value ; If the value is an integer, you can still extract specific digits — but first you need to convert it to a string.\"\"\"\n",
    "\n",
    "rf.loc[3, \"mean_salary\"]\n",
    "x = str(rf.loc[3, \"mean_salary\"])\n",
    "print(x[0:3])"
   ]
  },
  {
   "cell_type": "code",
   "execution_count": 32,
   "id": "38d95a0a",
   "metadata": {},
   "outputs": [
    {
     "name": "stdout",
     "output_type": "stream",
     "text": [
      "['PostgreSQL', 'Data Integrity', 'Automation']\n",
      "<class 'str'>\n",
      "['PostgreSQL', 'Data Integrity', 'Automation']\n",
      "<class 'list'>\n"
     ]
    },
    {
     "data": {
      "text/plain": [
       "'Automation'"
      ]
     },
     "execution_count": 32,
     "metadata": {},
     "output_type": "execute_result"
    }
   ],
   "source": [
    "\"\"\"[SQL, Business Intelligence, Dashboarding] - It looks like a list, but it’s actually a string — not a real Python list yet.\"\"\"\n",
    "\"\"\"let's work with the 3rd item of the column\"\"\"\n",
    "import ast\n",
    "y = rf.loc[2,\"skills_list\"]\n",
    "print(y)\n",
    "print(type(y))\n",
    "y2 = ast.literal_eval(y)\n",
    "print(y2)\n",
    "print(type(y2))\n",
    "\n",
    "\"\"\"now we may acess items from a list\"\"\"\n",
    "\n",
    "y2[2]"
   ]
  }
 ],
 "metadata": {
  "kernelspec": {
   "display_name": "Python 3",
   "language": "python",
   "name": "python3"
  },
  "language_info": {
   "codemirror_mode": {
    "name": "ipython",
    "version": 3
   },
   "file_extension": ".py",
   "mimetype": "text/x-python",
   "name": "python",
   "nbconvert_exporter": "python",
   "pygments_lexer": "ipython3",
   "version": "3.12.6"
  }
 },
 "nbformat": 4,
 "nbformat_minor": 5
}
